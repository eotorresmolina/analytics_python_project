{
 "cells": [
  {
   "cell_type": "markdown",
   "id": "consecutive-easter",
   "metadata": {},
   "source": [
    "# Recolección de los Datos.\n",
    "<div align=\"center\">\n",
    "    <img src=\"https://github.com/eotorresmolina/analytics_python/blob/main/images/Pipeline1.png?raw=true\"\n",
    "         width=\"1000\" align=\"middle\">  \n",
    "</div>"
   ]
  },
  {
   "cell_type": "code",
   "execution_count": 4,
   "id": "local-limit",
   "metadata": {},
   "outputs": [],
   "source": [
    "import os\n",
    "import platform\n",
    "\n",
    "import pandas as pd\n",
    "import numpy as np\n",
    "import matplotlib.pyplot as plt\n",
    "import matplotlib.image as mpimg\n",
    "import seaborn as sns\n",
    "\n",
    "import keras\n",
    "from keras.models import Sequential\n",
    "from keras.utils import to_categorical\n",
    "\n",
    "from glob import glob\n",
    "import gdown"
   ]
  },
  {
   "cell_type": "markdown",
   "id": "elementary-hepatitis",
   "metadata": {},
   "source": [
    "### **Whats-Burning dataset:**\n",
    "\n",
    "El dataset \"whats-burning\" pesa alrededor de 500Mbytes y contiene 3801 imágenes a color, por un lado imágenes de incendios y/o fuego y por otro lado imágenes donde no hay fuego o simplemente humo. Cada imagen, al ser de color, cada pixel posee 3 canales de profundidad (R, G, B).\n",
    "\n",
    "Dataset extraído de la página de \"Kaggle: Your Machine Learning and Data Science Community\"\n",
    "\n",
    "<a href=\"https://www.kaggle.com/escofresco/whats-burning\"><h4>Dataset source</h4></a>"
   ]
  },
  {
   "cell_type": "code",
   "execution_count": 6,
   "id": "effective-experiment",
   "metadata": {},
   "outputs": [
    {
     "name": "stderr",
     "output_type": "stream",
     "text": [
      "c:\\users\\emmanuel\\appdata\\local\\programs\\python\\python37\\lib\\site-packages\\gdown\\parse_url.py:31: UserWarning: You specified Google Drive Link but it is not the correct link to download the file. Maybe you should try: https://drive.google.com/uc?id=1y6SSwmQOGPVn5b7fNjnKIhxOTpajMSmh\n",
      "  url=\"https://drive.google.com/uc?id={}\".format(file_id)\n",
      "Downloading...\n",
      "From: https://drive.google.com/file/d/1y6SSwmQOGPVn5b7fNjnKIhxOTpajMSmh/view?usp=sharing\n",
      "To: C:\\Users\\Emmanuel\\Documents\\GitHub\\analytics_python_project\\whats_burning_dataset.zip\n",
      "71.5kB [00:00, 1.27MB/s]\n",
      "\"unzip\" no se reconoce como un comando interno o externo,\n",
      "programa o archivo por lotes ejecutable.\n"
     ]
    }
   ],
   "source": [
    "# Descargar el dataset.\n",
    "# Aprovechamos la librería gdown para descargar archivos automáticamente desde Google Drive.\n",
    "# Hacemos uso de la librería os para tener control de la ruta de descarga.\n",
    "dataset_name = \"whats_burning_dataset\"\n",
    "\n",
    "if os.access(dataset_name, os.F_OK) is False:  # Si no se puede acceder al archivo (dataset)\n",
    "    if os.access(dataset_name + '.zip', os.F_OK) is False: \n",
    "        url = \"https://drive.google.com/file/d/1y6SSwmQOGPVn5b7fNjnKIhxOTpajMSmh/view?usp=sharing\"\n",
    "        output = dataset_name + '.zip'\n",
    "        gdown.download(url, output, quiet=False)\n",
    "    \n",
    "    !unzip -q whats_burning.zip\n",
    "    \n",
    "else:\n",
    "    print('El dataset ya se encuentra descargado.')"
   ]
  },
  {
   "cell_type": "markdown",
   "id": "polar-stopping",
   "metadata": {},
   "source": [
    "# Procesamiento de los Datos.\n",
    "<div align=\"center\">\n",
    "    <img src=\"https://github.com/eotorresmolina/analytics_python/blob/main/images/Pipeline2.png?raw=true\"\n",
    "         width=1000 aling=\"middle\">\n",
    "</div>"
   ]
  },
  {
   "cell_type": "markdown",
   "id": "pending-suite",
   "metadata": {},
   "source": [
    "# Exploración de los Datos.\n",
    "<div align=\"center\">\n",
    "    <img src=\"https://github.com/eotorresmolina/analytics_python/blob/main/images/Pipeline3.png?raw=true\"\n",
    "         width=1000 aling=\"middle\">\n",
    "</div>"
   ]
  },
  {
   "cell_type": "markdown",
   "id": "listed-trouble",
   "metadata": {},
   "source": [
    "# Entrenamiento del Modelo.\n",
    "<div align=\"center\">\n",
    "    <img src=\"https://github.com/eotorresmolina/analytics_python/blob/main/images/Pipeline4.png?raw=true\"\n",
    "         width=1000 aling=\"middle\">\n",
    "</div>"
   ]
  },
  {
   "cell_type": "markdown",
   "id": "athletic-associate",
   "metadata": {},
   "source": [
    "# Validación del Modelo.\n",
    "<div align=\"center\">\n",
    "    <img src=\"https://github.com/eotorresmolina/analytics_python/blob/main/images/Pipeline5.png?raw=true\"\n",
    "         width=1000 aling=\"middle\">\n",
    "</div>"
   ]
  },
  {
   "cell_type": "markdown",
   "id": "straight-integer",
   "metadata": {},
   "source": [
    "# Aplicación del Modelo.\n",
    "<div align=\"center\">\n",
    "    <img src=\"https://github.com/eotorresmolina/analytics_python/blob/main/images/Pipeline6.png?raw=true\"\n",
    "         width=1000 aling=\"middle\">\n",
    "</div>"
   ]
  },
  {
   "cell_type": "raw",
   "id": "diagnostic-permit",
   "metadata": {},
   "source": [
    "# Conclusiones.\n",
    "<div align=\"center\">\n",
    "    <img src=\"https://github.com/eotorresmolina/analytics_python/blob/main/images/Pipeline7.png?raw=true\"\n",
    "         width=1000 aling=\"middle\">\n",
    "</div>"
   ]
  }
 ],
 "metadata": {
  "kernelspec": {
   "display_name": "Python 3",
   "language": "python",
   "name": "python3"
  },
  "language_info": {
   "codemirror_mode": {
    "name": "ipython",
    "version": 3
   },
   "file_extension": ".py",
   "mimetype": "text/x-python",
   "name": "python",
   "nbconvert_exporter": "python",
   "pygments_lexer": "ipython3",
   "version": "3.7.7"
  }
 },
 "nbformat": 4,
 "nbformat_minor": 5
}
