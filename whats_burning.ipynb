{
 "cells": [
  {
   "cell_type": "markdown",
   "id": "interstate-bride",
   "metadata": {},
   "source": [
    "# Recolección de los Datos.\n",
    "<div align=\"center\">\n",
    "    <img src=\"https://github.com/eotorresmolina/analytics_python/blob/main/images/Pipeline1.png?raw=true\"\n",
    "         width=\"1000\" align=\"middle\">  \n",
    "</div>"
   ]
  },
  {
   "cell_type": "markdown",
   "id": "perfect-window",
   "metadata": {},
   "source": [
    "# Procesamiento de los Datos.\n",
    "<div align=\"center\">\n",
    "    <img src=\"https://github.com/eotorresmolina/analytics_python/blob/main/images/Pipeline2.png?raw=true\"\n",
    "         width=1000 aling=\"middle\">\n",
    "</div>"
   ]
  },
  {
   "cell_type": "markdown",
   "id": "ultimate-devon",
   "metadata": {},
   "source": [
    "# Exploración de los Datos.\n",
    "<div align=\"center\">\n",
    "    <img src=\"https://github.com/eotorresmolina/analytics_python/blob/main/images/Pipeline3.png?raw=true\"\n",
    "         width=1000 aling=\"middle\">\n",
    "</div>"
   ]
  },
  {
   "cell_type": "markdown",
   "id": "integrated-johnston",
   "metadata": {},
   "source": [
    "# Entrenamiento del Modelo.\n",
    "<div align=\"center\">\n",
    "    <img src=\"https://github.com/eotorresmolina/analytics_python/blob/main/images/Pipeline4.png?raw=true\"\n",
    "         width=1000 aling=\"middle\">\n",
    "</div>"
   ]
  },
  {
   "cell_type": "markdown",
   "id": "falling-majority",
   "metadata": {},
   "source": [
    "# Validación del Modelo.\n",
    "<div align=\"center\">\n",
    "    <img src=\"https://github.com/eotorresmolina/analytics_python/blob/main/images/Pipeline5.png?raw=true\"\n",
    "         width=1000 aling=\"middle\">\n",
    "</div>"
   ]
  },
  {
   "cell_type": "markdown",
   "id": "chinese-bumper",
   "metadata": {},
   "source": [
    "# Aplicación del Modelo.\n",
    "<div align=\"center\">\n",
    "    <img src=\"https://github.com/eotorresmolina/analytics_python/blob/main/images/Pipeline6.png?raw=true\"\n",
    "         width=1000 aling=\"middle\">\n",
    "</div>"
   ]
  },
  {
   "cell_type": "markdown",
   "id": "veterinary-dealer",
   "metadata": {},
   "source": [
    "<div align=\"center\">\n",
    "    <img src=\"https://github.com/eotorresmolina/analytics_python/blob/main/images/Pipeline7.png?raw=true\"\n",
    "         width=1000 aling=\"middle\">\n",
    "</div>"
   ]
  }
 ],
 "metadata": {
  "kernelspec": {
   "display_name": "Python 3",
   "language": "python",
   "name": "python3"
  },
  "language_info": {
   "codemirror_mode": {
    "name": "ipython",
    "version": 3
   },
   "file_extension": ".py",
   "mimetype": "text/x-python",
   "name": "python",
   "nbconvert_exporter": "python",
   "pygments_lexer": "ipython3",
   "version": "3.7.7"
  }
 },
 "nbformat": 4,
 "nbformat_minor": 5
}
